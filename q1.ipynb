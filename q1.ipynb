{
 "cells": [
  {
   "cell_type": "code",
   "execution_count": 3,
   "metadata": {},
   "outputs": [
    {
     "name": "stdout",
     "output_type": "stream",
     "text": [
      "[[ 4 10 18]\n",
      " [ 6 14 24]]\n",
      "[[0.25       0.4        0.5       ]\n",
      " [0.16666667 0.28571429 0.375     ]]\n",
      "[[ 5  7  9]\n",
      " [ 7  9 11]]\n",
      "[[   1   32  729]\n",
      " [   1  128 6561]]\n"
     ]
    }
   ],
   "source": [
    "\n",
    "##operations on arrays\n",
    "import numpy as np\n",
    "\n",
    "arr = np.array([[1, 2, 3],[ 1,2,3]])\n",
    "arr1 = np.array([[4, 5, 6],[6, 7, 8]])\n",
    "\n",
    "m=np.multiply(arr,arr1)\n",
    "print(m)\n",
    "n=np.divide(arr,arr1)\n",
    "print(n)\n",
    "print(arr+arr1)\n",
    "k=np.power(arr,arr1)\n",
    "print(k)"
   ]
  }
 ],
 "metadata": {
  "kernelspec": {
   "display_name": "Python 3 (ipykernel)",
   "language": "python",
   "name": "python3"
  }
 },
 "nbformat": 4,
 "nbformat_minor": 2
}
